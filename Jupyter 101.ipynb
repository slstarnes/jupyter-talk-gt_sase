{
 "cells": [
  {
   "cell_type": "markdown",
   "metadata": {
    "slideshow": {
     "slide_type": "slide"
    }
   },
   "source": [
    "<p style=\"font-size:400%;text-align: center\">Jupyter 101</p>\n",
    "<img src=\"https://cdn-images-1.medium.com/max/1600/1*33_uvt6YYaIDtIDBGeOLSQ.png\" style=\"width:300px;height:300px;display:block;margin-left: auto;margin-right: auto\">\n",
    "<p style=\"font-size:150%;text-align: center\">GT-SASE Event | Luke Starnes | April 12, 2018</p>"
   ]
  },
  {
   "cell_type": "markdown",
   "metadata": {
    "slideshow": {
     "slide_type": "slide"
    }
   },
   "source": [
    "# Who am I?\n",
    "* Luke Starnes\n",
    "* GT Grad\n",
    " * BSEE 2002\n",
    " * MSIA 2008\n",
    " * MBA  2013\n",
    "* GTRI \n",
    " * Senior Research Engineer\n",
    " * Chief Engineer - Electronic Systems Labratory (ELSYS)"
   ]
  },
  {
   "cell_type": "markdown",
   "metadata": {
    "slideshow": {
     "slide_type": "slide"
    }
   },
   "source": [
    "# Agenda\n",
    "* ## What is Jupyter?\n",
    "* ## Why should you care?\n",
    "* ## How do you get started?\n",
    "\n",
    "(BTW, this notebook is online, so you can access the references... https://github.com/slstarnes/jupyter-talk-gt_sase)"
   ]
  },
  {
   "cell_type": "markdown",
   "metadata": {
    "slideshow": {
     "slide_type": ""
    }
   },
   "source": [
    "# What is Jupyter?\n",
    "1. *This* is Jupyter (a Jupyter notebook)\n",
    "2. open-source web application that allows you to create and share documents that contain live code, equations, visualizations and narrative text\n",
    "3. a great way to tell a story\n",
    "2. an powerful, interactive way to interact with data\n",
    "3. An ecosystem of open source tools \n",
    " * IPython - enhanced terminal\n",
    " * Jupyter Notebook\n",
    " * JupterLab - IDE in the browser\n",
    " * JupyterHub - multi-user server\n",
    "\n",
    "The name comes from 3 programming languages: __Ju__(lia) + __Py__(thon) + (e)__R__  \n",
    "Learn more: http://jupyter.org  \n",
    "Good overview: https://www.oreilly.com/ideas/what-is-jupyter"
   ]
  },
  {
   "cell_type": "markdown",
   "metadata": {
    "slideshow": {
     "slide_type": "slide"
    }
   },
   "source": [
    "## Jupyter supports for over 40 programming languages (kernels)\n",
    "* Python, R, and Julia\n",
    "* Fortran, Haskell, Ruby, CoffeeScript, C#, F#, Go, Scala, Perl, PHP, Octane, Matlab, Clojure, Mathmatica, C++, Java\n",
    "* Working list can be found here: https://github.com/jupyter/jupyter/wiki/Jupyter-kernels"
   ]
  },
  {
   "cell_type": "markdown",
   "metadata": {},
   "source": [
    "# Quick History\n",
    "\n",
    "* IPython was created by Fernando Perez while a grad student (physics at CU Boulder) in 2001 based off of his experience with Maple and Mathmatica\n",
    "> ... As any self-respecting graduate student with a dissertation deadline looming would do, I threw myself full-time into building the first 'real' IPython by merging my code with both of theirs (eventually I did graduate, by the way). - [Fernando Perez](https://twitter.com/fperez_org)  \n",
    "* IPython Notebook released in 2011\n",
    "* IPython / Jupyter split in 2015 ([The Big Split](https://blog.jupyter.org/the-big-split-9d7b88a031a7))\n",
    " * IPython for interactive shell / REPL protocol\n",
    " * Jupyter for notebook computing\n",
    "\n",
    "\n",
    "More history: ([The IPython notebook: a historical retrospective](http://blog.fperez.org/2012/01/ipython-notebook-historical.html))  \n",
    "REPL - Read–Eval–Print Loop "
   ]
  },
  {
   "cell_type": "markdown",
   "metadata": {
    "slideshow": {
     "slide_type": "skip"
    }
   },
   "source": [
    "Outline:\n",
    "* Who am I\n",
    "* What are we going to talk about\n",
    "* Mention that notebook is online\n",
    "* Quick history / foundation\n",
    " * Jupyter Lab\n",
    " * Conda\n",
    " * \n",
    "* Neat things you can do...\n",
    " * Pandas\n",
    " * nbviewer\n",
    " * Binder examples\n",
    " Atlantic article\n",
    "* How you get up and going\n",
    "* JUG Atlanta"
   ]
  },
  {
   "cell_type": "code",
   "execution_count": null,
   "metadata": {},
   "outputs": [],
   "source": [
    "\n",
    "http://nbviewer.jupyter.org/github/parente/nbestimate/blob/master/estimate.ipynb\n",
    "\n",
    "Jupyter is an ecosystem\n",
    "As of 2018-03-16 there are 1924277 notebooks on github\n",
    " nbestimate by @parente"
   ]
  }
 ],
 "metadata": {
  "celltoolbar": "Slideshow",
  "kernelspec": {
   "display_name": "Python 3.6",
   "language": "python",
   "name": "python36"
  },
  "language_info": {
   "codemirror_mode": {
    "name": "ipython",
    "version": 3
   },
   "file_extension": ".py",
   "mimetype": "text/x-python",
   "name": "python",
   "nbconvert_exporter": "python",
   "pygments_lexer": "ipython3",
   "version": "3.6.3"
  }
 },
 "nbformat": 4,
 "nbformat_minor": 2
}
