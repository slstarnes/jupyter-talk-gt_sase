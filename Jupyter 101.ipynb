{
 "cells": [
  {
   "cell_type": "markdown",
   "metadata": {},
   "source": [
    "<p></p>\n",
    "<p style=\"font-size:400%;text-align: center\">Jupyter 101</p>\n",
    "<img src=\"https://cdn-images-1.medium.com/max/1600/1*33_uvt6YYaIDtIDBGeOLSQ.png\" style=\"width:200px;height:200px;text-align: center\">\n",
    "<div style=\"clear: both;\"></div>\n",
    "<p style=\"font-size:150%;text-align: center\">GT-SASE Event | Luke Starnes | April 12, 2018</p>"
   ]
  },
  {
   "cell_type": "markdown",
   "metadata": {},
   "source": [
    "# Who can?"
   ]
  },
  {
   "cell_type": "code",
   "execution_count": null,
   "metadata": {},
   "outputs": [],
   "source": []
  }
 ],
 "metadata": {
  "kernelspec": {
   "display_name": "Python 3.6",
   "language": "python",
   "name": "python36"
  },
  "language_info": {
   "codemirror_mode": {
    "name": "ipython",
    "version": 3
   },
   "file_extension": ".py",
   "mimetype": "text/x-python",
   "name": "python",
   "nbconvert_exporter": "python",
   "pygments_lexer": "ipython3",
   "version": "3.6.3"
  }
 },
 "nbformat": 4,
 "nbformat_minor": 2
}
